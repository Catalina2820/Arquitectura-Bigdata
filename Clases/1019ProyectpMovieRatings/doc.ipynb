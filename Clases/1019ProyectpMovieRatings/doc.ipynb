{
 "cells": [
  {
   "cell_type": "code",
   "execution_count": null,
   "metadata": {},
   "outputs": [],
   "source": [
    "#pip install pymongo"
   ]
  },
  {
   "cell_type": "code",
   "execution_count": 7,
   "metadata": {},
   "outputs": [],
   "source": [
    "import pymongo"
   ]
  },
  {
   "cell_type": "code",
   "execution_count": 12,
   "metadata": {},
   "outputs": [],
   "source": [
    "client = pymongo.MongoClient('mongodb://localhost:27017/')\n",
    "db = client['Movielens'] #Crea la db Movielens\n",
    "ratings = db['ratings'] #Crea la tabla/carpeta ratings\n",
    "\n",
    "with open ('./DataLake/Clean/Fuente1_ml-1m/ratings.csv') as file:\n",
    "    for line in file.readlines(): \n",
    "        datos = line.split(',')\n",
    "        doc2insert = {'id_user': datos[0], 'id_movie': datos[1], 'ratings': datos[2]}\n",
    "        ratings.insert_one(doc2insert)"
   ]
  },
  {
   "cell_type": "code",
   "execution_count": null,
   "metadata": {},
   "outputs": [],
   "source": []
  }
 ],
 "metadata": {
  "kernelspec": {
   "display_name": "Python 3",
   "language": "python",
   "name": "python3"
  },
  "language_info": {
   "codemirror_mode": {
    "name": "ipython",
    "version": 3
   },
   "file_extension": ".py",
   "mimetype": "text/x-python",
   "name": "python",
   "nbconvert_exporter": "python",
   "pygments_lexer": "ipython3",
   "version": "3.9.13"
  }
 },
 "nbformat": 4,
 "nbformat_minor": 2
}
