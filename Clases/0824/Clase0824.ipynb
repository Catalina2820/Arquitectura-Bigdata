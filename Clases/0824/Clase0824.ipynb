{
  "nbformat": 4,
  "nbformat_minor": 0,
  "metadata": {
    "colab": {
      "provenance": []
    },
    "kernelspec": {
      "name": "python3",
      "display_name": "Python 3"
    },
    "language_info": {
      "name": "python"
    }
  },
  "cells": [
    {
      "cell_type": "code",
      "execution_count": null,
      "metadata": {
        "id": "4d6e9d50-f5b7-487c-b323-ed04ac036458",
        "outputId": "44b49865-4814-4f44-8bac-033aab90623e"
      },
      "outputs": [
        {
          "name": "stdout",
          "output_type": "stream",
          "text": [
            "Requirement already satisfied: findspark in c:\\users\\admin\\.conda\\envs\\spark_arquitecturabigdata\\lib\\site-packages (2.0.1)\n"
          ]
        },
        {
          "name": "stderr",
          "output_type": "stream",
          "text": [
            "WARNING: Error parsing dependencies of jupyter-highlight-selected-word: [Errno 2] No such file or directory: 'c:\\\\users\\\\admin\\\\.conda\\\\envs\\\\spark_arquitecturabigdata\\\\lib\\\\site-packages\\\\jupyter_highlight_selected_word-0.2.0.dist-info\\\\METADATA'\n"
          ]
        }
      ],
      "source": [
        "! pip install findspark\n",
        "#Para que python encuentre spark"
      ]
    },
    {
      "cell_type": "code",
      "execution_count": null,
      "metadata": {
        "id": "340c32a0-f03c-467e-8ac6-f26a241338ed",
        "outputId": "975bfbab-711f-4671-ef03-363636a79271"
      },
      "outputs": [
        {
          "name": "stdout",
          "output_type": "stream",
          "text": [
            "Requirement already satisfied: pyspark in c:\\users\\admin\\.conda\\envs\\spark_arquitecturabigdata\\lib\\site-packages (3.5.2)\n",
            "Requirement already satisfied: py4j==0.10.9.7 in c:\\users\\admin\\.conda\\envs\\spark_arquitecturabigdata\\lib\\site-packages (from pyspark) (0.10.9.7)\n"
          ]
        },
        {
          "name": "stderr",
          "output_type": "stream",
          "text": [
            "WARNING: Error parsing dependencies of jupyter-highlight-selected-word: [Errno 2] No such file or directory: 'c:\\\\users\\\\admin\\\\.conda\\\\envs\\\\spark_arquitecturabigdata\\\\lib\\\\site-packages\\\\jupyter_highlight_selected_word-0.2.0.dist-info\\\\METADATA'\n"
          ]
        }
      ],
      "source": [
        "! pip install pyspark\n",
        "#Instala la api que me permite acceder al pyspark que ya instalé"
      ]
    },
    {
      "cell_type": "code",
      "execution_count": null,
      "metadata": {
        "id": "f4b0a60f-cfb9-46ad-a686-d53338728840"
      },
      "outputs": [],
      "source": [
        "import findspark\n",
        "findspark.init()"
      ]
    },
    {
      "cell_type": "code",
      "execution_count": null,
      "metadata": {
        "id": "54136303-f021-4d57-b65f-0abb5f3adc9d"
      },
      "outputs": [],
      "source": [
        "from pyspark import SparkConf, SparkContext\n",
        "conf = SparkConf().setMaster(\"local[*]\").setAppName(\"Pyspark\")\n",
        "sc = SparkContext(conf = conf)"
      ]
    },
    {
      "cell_type": "code",
      "execution_count": null,
      "metadata": {
        "id": "b3c522a7-0297-49b9-8a81-fbf64095a213",
        "outputId": "1c570a0d-7eb0-43f6-b98d-9011298f26b3"
      },
      "outputs": [
        {
          "data": {
            "text/plain": [
              "['The Art of War', 'A Book of Strategy', 'By Sun, Tzu']"
            ]
          },
          "execution_count": 5,
          "metadata": {},
          "output_type": "execute_result"
        }
      ],
      "source": [
        "file = sc.textFile(\"artofwar.txt\")\n",
        "file.collect()"
      ]
    },
    {
      "cell_type": "code",
      "execution_count": null,
      "metadata": {
        "id": "89adb7d6-fd37-4696-a6c8-cc8eaf639b59"
      },
      "outputs": [],
      "source": [
        "file.map(lambda x: x.lower() )\\\n",
        "    .collect()"
      ]
    },
    {
      "cell_type": "code",
      "execution_count": null,
      "metadata": {
        "id": "b65ab0bf-7e19-4aad-b9e8-f2f74f04271a"
      },
      "outputs": [],
      "source": [
        "movilens = sc.textFile(\"./ml-1m/ratings.dat\")\n",
        "movilens.first()"
      ]
    },
    {
      "cell_type": "markdown",
      "metadata": {
        "jp-MarkdownHeadingCollapsed": true,
        "id": "6814a901-aaca-49a5-9cff-e2f5fb2cde5f"
      },
      "source": [
        "# Promedio"
      ]
    },
    {
      "cell_type": "code",
      "execution_count": null,
      "metadata": {
        "id": "e5d39209-26b8-4efc-a018-e80f4dcef8ec"
      },
      "outputs": [],
      "source": [
        "#Se inicia el findspark\n",
        "import findspark\n",
        "findspark.init()\n",
        "\n",
        "#Se configura el spark\n",
        "from pyspark import SparkConf, SparkContext\n",
        "conf = SparkConf().setMaster(\"local[*]\").setAppName(\"Pyspark\")\n",
        "sc = SparkContext(conf = conf)"
      ]
    },
    {
      "cell_type": "code",
      "execution_count": null,
      "metadata": {
        "id": "cd35d050-22ec-4417-8546-1bdcfff5abbd"
      },
      "outputs": [],
      "source": [
        "def parseLines(x): #UserID::MovieID::Rating::Timestamp\n",
        "  x = x.split('::')[1:3] #[1:3] me muestra los dos primeros datos del arreglo\n",
        "  x[1] = float(x[1])\n",
        "  return(tuple(x)) # Para par clave por lo general se representa en tuplas"
      ]
    },
    {
      "cell_type": "code",
      "execution_count": null,
      "metadata": {
        "id": "74df8cd7-65c8-43e4-9989-8602b58904bb"
      },
      "outputs": [],
      "source": [
        "movilens = sc.textFile(\"./ml-1m/ratings.dat\")\n",
        "movilens.first()"
      ]
    },
    {
      "cell_type": "code",
      "execution_count": null,
      "metadata": {
        "id": "b9cc282e-09fe-4b19-a623-a984889371f6"
      },
      "outputs": [],
      "source": [
        "ratings = movilens.map(parseLines)\\\n",
        "                  .mapValues(lambda x: (x, 1))\\\n",
        "                  .reduceByKey(lambda x, y: (x[0] + y[0], x[1] + y[1]))\\\n",
        "                  .mapValues(lambda x: x[0] / x[1])\\\n",
        "                  .sortBy(lambda x: -x[1])\n",
        "\n",
        "# .map(parseLines)\\\n",
        "# .mapValues(lambda x: (x, 1))\\  #Convierte cada rating en una tupla (rating, 1) -->\n",
        "# .reduceByKey(lambda x, y: (x[0] + y[0], x[1] + y[1]))\\ #Suma los ratings y cuenta cuántos hay.\n",
        "# .mapValues(lambda x: x[0] / x[1])\\ #Calcula el prom\n",
        "# .sortBy(lambda x: -x[1])"
      ]
    },
    {
      "cell_type": "code",
      "execution_count": null,
      "metadata": {
        "id": "6c121d71-74c0-49d6-a839-abb4813384b6"
      },
      "outputs": [],
      "source": [
        "rta = ratings.collect()\n",
        "for movie, rating_prom in rta:\n",
        "    print(f\"MovieID: {movie}, Rating promedio: {rating_prom}\")"
      ]
    }
  ]
}