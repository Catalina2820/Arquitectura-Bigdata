{
  "nbformat": 4,
  "nbformat_minor": 0,
  "metadata": {
    "colab": {
      "provenance": []
    },
    "kernelspec": {
      "name": "python3",
      "display_name": "Python 3"
    },
    "language_info": {
      "name": "python"
    }
  },
  "cells": [
    {
      "cell_type": "code",
      "execution_count": null,
      "metadata": {
        "id": "vZRMRVhKKYC2"
      },
      "outputs": [],
      "source": [
        "pip install findspark"
      ]
    },
    {
      "cell_type": "code",
      "source": [
        "pip install pyspark"
      ],
      "metadata": {
        "id": "3sgSyjhuKhb8"
      },
      "execution_count": null,
      "outputs": []
    },
    {
      "cell_type": "code",
      "source": [
        "# sc.stop\n",
        "#sirve para parar spark y evitarse volver a ejecutar el entorno en caso"
      ],
      "metadata": {
        "id": "xAuwBr3FQszp"
      },
      "execution_count": null,
      "outputs": []
    },
    {
      "cell_type": "markdown",
      "source": [
        "#Clase 0831"
      ],
      "metadata": {
        "id": "7x4pKc4bL_br"
      }
    },
    {
      "cell_type": "code",
      "source": [
        "from pyspark import SparkConf, SparkContext\n",
        "import findspark\n",
        "import collections\n",
        "\n",
        "findspark.init() #Se debe inicializar\n",
        "\n",
        "conf = SparkConf().setMaster(\"local[*]\").setAppName(\"MiSpark\")\n",
        "sc = SparkContext(conf = conf)"
      ],
      "metadata": {
        "id": "nMzaTmVgL-iJ"
      },
      "execution_count": null,
      "outputs": []
    },
    {
      "cell_type": "code",
      "source": [
        "#que es una rdd y que es paralelizar\n",
        "#resilient distibute dataset\n",
        "#parallelize crea un objeto propio de spark llamado rdd\n",
        "#El rdd particiona el archivo en bloques y lo distibuye en los nucleos disponibles, este sistema es un rdd, importante no se carga en ram trabaja con el disco"
      ],
      "metadata": {
        "id": "b2snGfCSSJjP"
      },
      "execution_count": null,
      "outputs": []
    },
    {
      "cell_type": "code",
      "source": [
        "#quemar datos es meterlos manualmente\n",
        "rdd = sc.parallelize([1,5,23,6,2,-1,-6,-7,12])\n",
        "\n",
        "#Transformara RDD con función implicita\n",
        "rdd = rdd.map(lambda x: x**3)\n",
        "##map transforma los elementos de una RDD y devuelve otro con la transformación respectiva\n",
        "\n",
        "\n",
        "rdd.collect()"
      ],
      "metadata": {
        "colab": {
          "base_uri": "https://localhost:8080/"
        },
        "id": "HAjKl07HSbvB",
        "outputId": "3a2d9322-66ef-440c-bd55-5a23d52826b7"
      },
      "execution_count": null,
      "outputs": [
        {
          "output_type": "execute_result",
          "data": {
            "text/plain": [
              "[1, 125, 12167, 216, 8, -1, -216, -343, 1728]"
            ]
          },
          "metadata": {},
          "execution_count": 18
        }
      ]
    },
    {
      "cell_type": "code",
      "source": [
        "#Uso de filter\n",
        "\n",
        "lines = sc.textFile('/content/drive/MyDrive/Semestre 9/Arquitectura BigData/artofwar.txt')\n",
        "lines.collect()"
      ],
      "metadata": {
        "colab": {
          "base_uri": "https://localhost:8080/"
        },
        "id": "vWNCNwgXWSSs",
        "outputId": "38c631e2-5e94-4ac9-8222-5872d7338fbc"
      },
      "execution_count": null,
      "outputs": [
        {
          "output_type": "execute_result",
          "data": {
            "text/plain": [
              "['The Art of War', 'A Book of Strategy', 'By Sun, Tzu']"
            ]
          },
          "metadata": {},
          "execution_count": 32
        }
      ]
    },
    {
      "cell_type": "code",
      "source": [
        "#Este es un cuadro para probar la función del map\n",
        "y =  'the art of war'\n",
        "y.lower().replace('f','TT')"
      ],
      "metadata": {
        "colab": {
          "base_uri": "https://localhost:8080/",
          "height": 36
        },
        "id": "e_cXpg51YeKM",
        "outputId": "97a7f04d-629c-4c54-9c61-151d06833a8f"
      },
      "execution_count": null,
      "outputs": [
        {
          "output_type": "execute_result",
          "data": {
            "text/plain": [
              "'the art oTT war'"
            ],
            "application/vnd.google.colaboratory.intrinsic+json": {
              "type": "string"
            }
          },
          "metadata": {},
          "execution_count": 1
        }
      ]
    },
    {
      "cell_type": "code",
      "source": [
        "#Pasar a minúsculas todas las letra\n",
        "lines = lines.map(lambda x: x.lower().replace(\",\",\"\"))\\\n",
        "             .flatMap(lambda x: x.split(\" \"))\\\n",
        "             .filter(lambda x: len(x) > 2 )\n",
        "lines.collect()"
      ],
      "metadata": {
        "colab": {
          "base_uri": "https://localhost:8080/",
          "height": 193
        },
        "id": "-LQ9NyTQXSGA",
        "outputId": "3d41d9ec-f639-4146-fdb3-1a14590bce10"
      },
      "execution_count": null,
      "outputs": [
        {
          "output_type": "error",
          "ename": "TypeError",
          "evalue": "RDD.filter() missing 1 required positional argument: 'f'",
          "traceback": [
            "\u001b[0;31m---------------------------------------------------------------------------\u001b[0m",
            "\u001b[0;31mTypeError\u001b[0m                                 Traceback (most recent call last)",
            "\u001b[0;32m<ipython-input-33-ab8868742470>\u001b[0m in \u001b[0;36m<cell line: 2>\u001b[0;34m()\u001b[0m\n\u001b[1;32m      2\u001b[0m \u001b[0mlines\u001b[0m \u001b[0;34m=\u001b[0m \u001b[0mlines\u001b[0m\u001b[0;34m.\u001b[0m\u001b[0mmap\u001b[0m\u001b[0;34m(\u001b[0m\u001b[0;32mlambda\u001b[0m \u001b[0mx\u001b[0m\u001b[0;34m:\u001b[0m \u001b[0mx\u001b[0m\u001b[0;34m.\u001b[0m\u001b[0mlower\u001b[0m\u001b[0;34m(\u001b[0m\u001b[0;34m)\u001b[0m\u001b[0;34m.\u001b[0m\u001b[0mreplace\u001b[0m\u001b[0;34m(\u001b[0m\u001b[0;34m\",\"\u001b[0m\u001b[0;34m,\u001b[0m\u001b[0;34m\"\"\u001b[0m\u001b[0;34m)\u001b[0m\u001b[0;34m)\u001b[0m\u001b[0;31m\\\u001b[0m\u001b[0;34m\u001b[0m\u001b[0;34m\u001b[0m\u001b[0m\n\u001b[1;32m      3\u001b[0m              \u001b[0;34m.\u001b[0m\u001b[0mflatMap\u001b[0m\u001b[0;34m(\u001b[0m\u001b[0;32mlambda\u001b[0m \u001b[0mx\u001b[0m\u001b[0;34m:\u001b[0m \u001b[0mx\u001b[0m\u001b[0;34m.\u001b[0m\u001b[0msplit\u001b[0m\u001b[0;34m(\u001b[0m\u001b[0;34m\" \"\u001b[0m\u001b[0;34m)\u001b[0m\u001b[0;34m)\u001b[0m\u001b[0;31m\\\u001b[0m\u001b[0;34m\u001b[0m\u001b[0;34m\u001b[0m\u001b[0m\n\u001b[0;32m----> 4\u001b[0;31m              \u001b[0;34m.\u001b[0m\u001b[0mfilter\u001b[0m\u001b[0;34m(\u001b[0m\u001b[0;34m)\u001b[0m\u001b[0;34m\u001b[0m\u001b[0;34m\u001b[0m\u001b[0m\n\u001b[0m\u001b[1;32m      5\u001b[0m \u001b[0mlines\u001b[0m\u001b[0;34m.\u001b[0m\u001b[0mcollect\u001b[0m\u001b[0;34m(\u001b[0m\u001b[0;34m)\u001b[0m\u001b[0;34m\u001b[0m\u001b[0;34m\u001b[0m\u001b[0m\n",
            "\u001b[0;31mTypeError\u001b[0m: RDD.filter() missing 1 required positional argument: 'f'"
          ]
        }
      ]
    },
    {
      "cell_type": "code",
      "source": [
        "sc.stop"
      ],
      "metadata": {
        "colab": {
          "base_uri": "https://localhost:8080/",
          "height": 156
        },
        "id": "Vz-8j0_qYDlY",
        "outputId": "2964d199-d248-400f-f393-83505b526299"
      },
      "execution_count": null,
      "outputs": [
        {
          "output_type": "execute_result",
          "data": {
            "text/plain": [
              "<bound method SparkContext.stop of <SparkContext master=local appName=MiSpark>>"
            ],
            "text/html": [
              "<div style=\"max-width:800px; border: 1px solid var(--colab-border-color);\"><style>\n",
              "      pre.function-repr-contents {\n",
              "        overflow-x: auto;\n",
              "        padding: 8px 12px;\n",
              "        max-height: 500px;\n",
              "      }\n",
              "\n",
              "      pre.function-repr-contents.function-repr-contents-collapsed {\n",
              "        cursor: pointer;\n",
              "        max-height: 100px;\n",
              "      }\n",
              "    </style>\n",
              "    <pre style=\"white-space: initial; background:\n",
              "         var(--colab-secondary-surface-color); padding: 8px 12px;\n",
              "         border-bottom: 1px solid var(--colab-border-color);\"><b>pyspark.context.SparkContext.stop</b><br/>def stop() -&gt; None</pre><pre class=\"function-repr-contents function-repr-contents-collapsed\" style=\"\"><a class=\"filepath\" style=\"display:none\" href=\"#\">/usr/local/lib/python3.10/dist-packages/pyspark/context.py</a>Shut down the :class:`SparkContext`.\n",
              "\n",
              ".. versionadded:: 0.7.0</pre>\n",
              "      <script>\n",
              "      if (google.colab.kernel.accessAllowed && google.colab.files && google.colab.files.view) {\n",
              "        for (const element of document.querySelectorAll('.filepath')) {\n",
              "          element.style.display = 'block'\n",
              "          element.onclick = (event) => {\n",
              "            event.preventDefault();\n",
              "            event.stopPropagation();\n",
              "            google.colab.files.view(element.textContent, 646);\n",
              "          };\n",
              "        }\n",
              "      }\n",
              "      for (const element of document.querySelectorAll('.function-repr-contents')) {\n",
              "        element.onclick = (event) => {\n",
              "          event.preventDefault();\n",
              "          event.stopPropagation();\n",
              "          element.classList.toggle('function-repr-contents-collapsed');\n",
              "        };\n",
              "      }\n",
              "      </script>\n",
              "      </div>"
            ]
          },
          "metadata": {},
          "execution_count": 31
        }
      ]
    },
    {
      "cell_type": "code",
      "source": [
        "y = '1::1193::5::978300760'\n",
        "y.split(\"::\")[2]"
      ],
      "metadata": {
        "colab": {
          "base_uri": "https://localhost:8080/",
          "height": 36
        },
        "id": "8z-5B_rPblQ8",
        "outputId": "8abda7be-8e44-4f31-d251-9ad2379c11e3"
      },
      "execution_count": null,
      "outputs": [
        {
          "output_type": "execute_result",
          "data": {
            "text/plain": [
              "'5'"
            ],
            "application/vnd.google.colaboratory.intrinsic+json": {
              "type": "string"
            }
          },
          "metadata": {},
          "execution_count": 34
        }
      ]
    },
    {
      "cell_type": "code",
      "source": [
        "data = sc.textFile(\"/content/drive/MyDrive/Semestre 9/Arquitectura BigData/ml-1m/ratings.dat\")\n",
        "data = data.map(lambda x: x.split('::')[2])\\\n",
        "           .countByValue()\n",
        "# data.collect()\n",
        "data"
      ],
      "metadata": {
        "colab": {
          "base_uri": "https://localhost:8080/"
        },
        "id": "u-5wQuBiQQCh",
        "outputId": "43795542-975f-4b19-bf17-b0ed476e797d"
      },
      "execution_count": null,
      "outputs": [
        {
          "output_type": "execute_result",
          "data": {
            "text/plain": [
              "defaultdict(int,\n",
              "            {'5': 226310, '3': 261197, '4': 348971, '2': 107557, '1': 56174})"
            ]
          },
          "metadata": {},
          "execution_count": 41
        }
      ]
    },
    {
      "cell_type": "code",
      "source": [
        "def parseLines(x):\n",
        "  x = x.split('::')[1:3] #[1:3] me muestra los dos primeros datos del arreglo\n",
        "  x[1] = float(x[1])\n",
        "  return(tuple(x)) # Para par clave por lo general se representa en tuplas\n",
        "\n",
        "  #(reduceByKey)hace la operación en las claves (películas) que son iguales\n",
        "\n",
        "ratings = movilens.map(parseLines)\\\n",
        "                  .mapValues(lambda x: (x,1))\\\n",
        "                  .reduceByKey(lambda x , y: (x[0] + y[0], x[1] + y[1]))\\\n",
        "                  .mapValues(lambda x: x[0]/x[1])\\\n",
        "                  .sortBy(lambda x: -x[1])\n",
        "ratings.collect()"
      ],
      "metadata": {
        "id": "0WQt5KkPpf_Y"
      },
      "execution_count": null,
      "outputs": []
    },
    {
      "cell_type": "code",
      "source": [
        "movilens = sc.textFile(\"/content/drive/MyDrive/Semestre 9/Arquitectura BigData/ml-1m/ratings.dat\")\n",
        "movilens.first()"
      ],
      "metadata": {
        "colab": {
          "base_uri": "https://localhost:8080/",
          "height": 36
        },
        "id": "KowJyAgdMysg",
        "outputId": "d7d6cac4-333c-4d79-e129-3812137ced33"
      },
      "execution_count": null,
      "outputs": [
        {
          "output_type": "execute_result",
          "data": {
            "text/plain": [
              "'1::1193::5::978300760'"
            ],
            "application/vnd.google.colaboratory.intrinsic+json": {
              "type": "string"
            }
          },
          "metadata": {},
          "execution_count": 49
        }
      ]
    },
    {
      "cell_type": "code",
      "source": [
        "x = '1::1193::5::978300760'\n",
        "x = x.split('::')[1:3] #[1:3] me muestra los dos primeros datos del arreglo\n",
        "x[1] = float(x[1])\n",
        "tuple(x) # Para par clave por lo general se representa en tuplas"
      ],
      "metadata": {
        "colab": {
          "base_uri": "https://localhost:8080/"
        },
        "id": "8B6WsKdHptpd",
        "outputId": "27753b92-4fb7-40ea-f275-04d9bb382d78"
      },
      "execution_count": null,
      "outputs": [
        {
          "output_type": "execute_result",
          "data": {
            "text/plain": [
              "('1193', 5.0)"
            ]
          },
          "metadata": {},
          "execution_count": 47
        }
      ]
    }
  ]
}