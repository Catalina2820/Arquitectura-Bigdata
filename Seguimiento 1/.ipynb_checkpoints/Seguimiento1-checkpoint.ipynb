{
 "cells": [
  {
   "cell_type": "code",
   "execution_count": 1,
   "id": "e769db31-f7f2-4658-a016-8501810ad4d9",
   "metadata": {},
   "outputs": [
    {
     "data": {
      "text/plain": [
       "'0101001101100001011011100110010001110010011000010010000001001101011001010110111001100001'"
      ]
     },
     "execution_count": 1,
     "metadata": {},
     "output_type": "execute_result"
    }
   ],
   "source": [
    "#Sandra Mena\n",
    "examen = 'Sandra Mena'\n",
    "def strBinario(str):\n",
    "    return ''.join(format(ord(x),'08b') for x in list(str))\n",
    "\n",
    "strBinario(examen)"
   ]
  },
  {
   "cell_type": "code",
   "execution_count": null,
   "id": "5e1d21db",
   "metadata": {},
   "outputs": [],
   "source": [
    "#Este es un cuadro para probar la función del map\n",
    "y =  'the art of war'\n",
    "y.lower().replace('f','TT')\n",
    "\n",
    "#Pasar a minúsculas todas las letra\n",
    "lines = lines.map(lambda x: x.lower().replace(\",\",\"\"))\\\n",
    "             .flatMap(lambda x: x.split(\" \"))\\\n",
    "             .filter(lambda x: len(x) > 2 )\n",
    "lines.collect()"
   ]
  },
  {
   "cell_type": "code",
   "execution_count": 2,
   "id": "8113a4cc-f605-4fc1-8357-49f64e7adbf9",
   "metadata": {},
   "outputs": [],
   "source": [
    "import findspark\n",
    "findspark.init()\n",
    "from pyspark import SparkConf, SparkContext\n",
    "conf = SparkConf().setMaster(\"local[*]\").setAppName(\"Pyspark\")\n",
    "sc = SparkContext(conf = conf)"
   ]
  },
  {
   "cell_type": "markdown",
   "id": "5d41c16e-fa4f-49fb-8489-ad6088ac5214",
   "metadata": {
    "jp-MarkdownHeadingCollapsed": true
   },
   "source": [
    "# Punto 1\n",
    "Un mensaje anónimo les dice lo siguiente:\n",
    "\n",
    "010000100110100101100101011011100111011001100101011011100110100101100100011011110\n",
    "111001100100000011000010110110000100000011011010111010101101110011001000110111100\n",
    "10000001100100011010010110011101101001011101000110000101101100\n",
    "100\n",
    "Traduzca el código binario de 8-bits a español y responda con un “Hola mundo” en binario y reporte\n",
    "el peso de este mensaje en bytes."
   ]
  },
  {
   "cell_type": "code",
   "execution_count": 25,
   "id": "9fb3da76-34fc-4780-9c06-d24e91d9b256",
   "metadata": {},
   "outputs": [],
   "source": [
    "def binarioStr(bin):\n",
    "    import re\n",
    "    return ''.join([chr(int(x,2)) for x in re.findall('.{1,8}', str(bin))])"
   ]
  },
  {
   "cell_type": "code",
   "execution_count": 29,
   "id": "ceb42da3-6966-4cb6-adb4-aac366258f36",
   "metadata": {},
   "outputs": [],
   "source": [
    "def strBinario(str):\n",
    "    return ''.join(format(ord(x),'08b') for x in list(str))"
   ]
  },
  {
   "cell_type": "code",
   "execution_count": 47,
   "id": "962efc4d-4adb-4673-a168-035157e20243",
   "metadata": {},
   "outputs": [
    {
     "name": "stdout",
     "output_type": "stream",
     "text": [
      "Traducción del mensaje: Bienvenidos al mundo digital\n",
      "Peso del mensaje: 28 bytes\n",
      "Respuesta: 01001000011011110110110001100001001000000110110101110101011011100110010001101111\n",
      "Peso de la respuesta: 10 bytes\n"
     ]
    }
   ],
   "source": [
    "binario = '01000010011010010110010101101110011101100110010101101110011010010110010001101111011100110010000001100001011011000010000001101101011101010110111001100100011011110010000001100100011010010110011101101001011101000110000101101100'\n",
    "texto = 'Hola mundo'\n",
    "pesoMensaje = len(binarioStr(binario).encode('utf-8'))\n",
    "pesoRta = len(texto.encode('utf-8'))\n",
    "print(f'Traducción del mensaje: {binarioStr(binario)}\\nPeso del mensaje: {pesoMensaje} bytes\\nRespuesta: {strBinario(texto)}\\nPeso de la respuesta: {pesoRta} bytes')"
   ]
  },
  {
   "cell_type": "markdown",
   "id": "625940df-858d-480a-b5b6-120dd38b9803",
   "metadata": {},
   "source": [
    "# Punto 2\n",
    "Paralelice el vector [3, 5, 1, 6, 9, 12, 15, 21, 5, 3, 6, 9, 8, 7, 7, 1, 13] y usando una RDD calcule la media \n",
    "del vector. Sugerencia: Use las funciones map() y reduce() para calcular la suma de los valores de \n",
    "vector y la cantidad de datos que esta suma contiene."
   ]
  },
  {
   "cell_type": "code",
   "execution_count": 3,
   "id": "cb749e1e-4201-42ea-a15d-02ddca0942f7",
   "metadata": {},
   "outputs": [],
   "source": [
    "import findspark\n",
    "from pyspark import SparkConf, SparkContext\n",
    "\n",
    "findspark.init()\n",
    "conf = SparkConf().setMaster(\"local[*]\").setAppName(\"Pyspark\")\n",
    "sc = SparkContext(conf = conf)"
   ]
  },
  {
   "cell_type": "code",
   "execution_count": 4,
   "id": "55f14892-8b58-4fc1-bec2-dd9f69464a8b",
   "metadata": {},
   "outputs": [
    {
     "data": {
      "text/plain": [
       "7.705882352941177"
      ]
     },
     "execution_count": 4,
     "metadata": {},
     "output_type": "execute_result"
    }
   ],
   "source": [
    "vectRdd = sc.parallelize([3, 5, 1, 6, 9, 12, 15, 21, 5, 3, 6, 9, 8, 7, 7, 1, 13])\n",
    "\n",
    "suma , cant = vectRdd.map(lambda x: (x,1))\\\n",
    "              .reduce(lambda s,c: (s[0] + c[0] , s[1] + c[1])) #se convierte en tupla no se puede hacer .collect()\n",
    "media = suma / cant\n",
    "media"
   ]
  },
  {
   "cell_type": "markdown",
   "id": "dfc9833d-4849-4ad5-840b-22d1dcdc892c",
   "metadata": {},
   "source": [
    "# Punto 3\n",
    "\n",
    "Descargue el archivo iris.txt del siguiente link y calcule el promedio de “sepal length” para cada tipo de \n",
    "planta Iris (Setosa, Versicolar, Virginica); Haga el mismo calculo usando las variables “sepal width” \n",
    "“petal length”, and “petal width”\n",
    "\n",
    "https://github.com/ClaudiuGeorgiu/Classification/blob/master/iris.txt"
   ]
  },
  {
   "cell_type": "code",
   "execution_count": 11,
   "id": "26ee63c8-7383-4feb-ac60-4e8b904d0a4a",
   "metadata": {},
   "outputs": [],
   "source": [
    "iris = sc.textFile(\"iris.txt\")"
   ]
  },
  {
   "cell_type": "code",
   "execution_count": 6,
   "id": "825825c6",
   "metadata": {},
   "outputs": [],
   "source": [
    "def parsecol(x, col):\n",
    "    x = x.split(',')\n",
    "    columna = float(x[col])\n",
    "    clave = x[4]\n",
    "    return (clave, columna)"
   ]
  },
  {
   "cell_type": "code",
   "execution_count": 12,
   "id": "2c2db6e4-76a2-4b74-9096-a20f2fb1e8b3",
   "metadata": {},
   "outputs": [],
   "source": [
    "encabezado = iris.first()\n",
    "irismod = iris.filter(lambda x: x != encabezado)"
   ]
  },
  {
   "cell_type": "code",
   "execution_count": 17,
   "id": "42630af6",
   "metadata": {},
   "outputs": [],
   "source": [
    "sepalL = irismod.map(lambda x: parsecol(x,0))\n",
    "sepalw = irismod.map(lambda x: parsecol(x,1))\n",
    "petalL = irismod.map(lambda x: parsecol(x,2))\n",
    "petalw = irismod.map(lambda x: parsecol(x,3))"
   ]
  },
  {
   "cell_type": "code",
   "execution_count": 27,
   "id": "601d0d89",
   "metadata": {},
   "outputs": [],
   "source": [
    "promSl = sepalL.mapValues(lambda x: (x,1))\\\n",
    "                .reduceByKey(lambda x,y: (x[0] + y[0], x[1] + y[1]))\\\n",
    "                .mapValues(lambda x: x[0] / x[1])\n",
    "\n",
    "promSw = sepalw.mapValues(lambda x: (x, 1))\\\n",
    "                .reduceByKey(lambda x, y: (x[0] + y[0], x[1] + y[1]))\\\n",
    "                .mapValues(lambda x: x[0] / x[1])\n",
    "\n",
    "promPl = petalL.mapValues(lambda x: (x, 1))\\\n",
    "                .reduceByKey(lambda x, y: (x[0] + y[0], x[1] + y[1]))\\\n",
    "                .mapValues(lambda x: x[0] / x[1])\n",
    "\n",
    "promPw = petalw.mapValues(lambda x: (x, 1))\\\n",
    "                .reduceByKey(lambda x, y: (x[0] + y[0], x[1] + y[1]))\\\n",
    "                .mapValues(lambda x: x[0] / x[1])"
   ]
  },
  {
   "cell_type": "code",
   "execution_count": 29,
   "id": "db9d65f6",
   "metadata": {},
   "outputs": [
    {
     "name": "stdout",
     "output_type": "stream",
     "text": [
      "Promedio de sepal length:\n",
      "Iris-setosa: 5.006\n",
      "Iris-versicolor: 5.936\n",
      "Iris-virginica: 6.588\n",
      "\n",
      "\n",
      "Promedio de sepal width:\n",
      "Iris-setosa: 3.418\n",
      "Iris-versicolor: 2.770\n",
      "Iris-virginica: 2.974\n",
      "\n",
      "\n",
      "Promedio de petal length:\n",
      "Iris-setosa: 1.464\n",
      "Iris-versicolor: 4.260\n",
      "Iris-virginica: 5.552\n",
      "\n",
      "\n",
      "Promedio de petal width:\n",
      "Iris-setosa: 0.244\n",
      "Iris-versicolor: 1.326\n",
      "Iris-virginica: 2.026\n",
      "\n",
      "\n"
     ]
    }
   ],
   "source": [
    "def print_results(rdd, attribute_name):\n",
    "    results = rdd.collect()\n",
    "    print(f\"Promedio de {attribute_name}:\")\n",
    "    for key, avg in results:\n",
    "        print(f\"{key}: {avg:.3f}\")\n",
    "    print(\"\\n\")\n",
    "\n",
    "print_results(promSl, \"sepal length\")\n",
    "print_results(promSw, \"sepal width\")\n",
    "print_results(promPl, \"petal length\")\n",
    "print_results(promPw, \"petal width\")"
   ]
  },
  {
   "cell_type": "markdown",
   "id": "c3405335",
   "metadata": {},
   "source": [
    "# Punto 4\n",
    "\n",
    "Descargue desde el siguiente link la Patente asociada, para ello en la pestaña de documentos descargue el archivo .zip:\n",
    "https://patentscope.wipo.int/search/es/detail.jsf?docId=US410558309&_cid=P11-LNP5X5-65408-1\n",
    "\n",
    "Cargue en un RDD el documento ocr-description.txt, use las funciones map(), flatMap(), y filter() para transformar línea a línea todo el documento a minúsculas, elimine caracteres especiales como comas, puntos, puntos y comas, comillas y cualquier signo de puntuación. Adicionalmente separe las oraciones en palabras individuales y filtre las palabras para que solo obtengas las que tengan más de 3 letras.\n",
    "\n",
    "Una vez hecha esta limpieza, cuente las palabras, ordénelas y reporte las 5 que más se repitan."
   ]
  },
  {
   "cell_type": "code",
   "execution_count": 30,
   "id": "651417e4",
   "metadata": {},
   "outputs": [],
   "source": [
    "ocr = sc.textFile(\"./ocr-description.txt\")"
   ]
  },
  {
   "cell_type": "code",
   "execution_count": 46,
   "id": "677d4e62",
   "metadata": {},
   "outputs": [],
   "source": [
    "import re\n",
    "ocrlimpio = ocr.map(lambda x: x.lower())\\\n",
    "               .map(lambda x: re.sub(r'[^\\w\\s]', '', x))\\\n",
    "               .flatMap(lambda x: x.split())\\\n",
    "               .filter(lambda x: len(x) > 3)\\\n",
    "               .map(lambda x: (x,1))\\\n",
    "               .reduceByKey(lambda x, y: x + y)\\\n",
    "               .sortBy(lambda x: -x[1])"
   ]
  },
  {
   "cell_type": "code",
   "execution_count": 48,
   "id": "7a7f09fa",
   "metadata": {},
   "outputs": [
    {
     "name": "stdout",
     "output_type": "stream",
     "text": [
      "vaporization: 116\n",
      "airflow: 82\n",
      "guide: 58\n",
      "cavity: 55\n",
      "embodiments: 45\n"
     ]
    }
   ],
   "source": [
    "for palabra, cant in ocrlimpio.take(5):\n",
    "    print(f\"{palabra}: {cant}\")"
   ]
  },
  {
   "cell_type": "markdown",
   "id": "8022e245",
   "metadata": {},
   "source": [
    "# Punto 5\n",
    "\n",
    "Con la librería Faker simule 500000 registros de 4 variables de una red social que corresponden a id, nombre usuario, edad, Numero de amigos. Simule la edad como una variable normal discretizada, centrada en 33 años con una desviación estándar de 15 y la variable Numero de amigos como una variable normal discretizada centradas en 255 con una desviación estándar de 50, para garantizar que siempre sean positivos saque valor absoluto\n",
    "\n",
    "a. Simule el conjunto de datos y guárdelos en un archivo llamado num_amigos.txt\n",
    "\n",
    "b. Cargue los datos a una RDD para procesarlos.\n",
    "\n",
    "c. Calcule el número de amigos promedio por edad."
   ]
  },
  {
   "cell_type": "markdown",
   "id": "ae97f0ff",
   "metadata": {},
   "source": [
    "# Falta"
   ]
  },
  {
   "cell_type": "code",
   "execution_count": null,
   "id": "23967dff",
   "metadata": {},
   "outputs": [],
   "source": [
    "from faker import Faker\n",
    "import numpy as np\n",
    "import pandas as pd\n",
    "\n",
    "fake = Faker()\n",
    "num_records = 500000\n",
    "\n",
    "# Abrir archivo para escritura\n",
    "with open('num_amigos.txt', 'w') as f:\n",
    "    # Escribir el encabezado\n",
    "    f.write('id\\tusername\\tage\\tnum_friends\\n')\n",
    "    \n",
    "    # Generar datos\n",
    "    for _ in range(num_records):\n",
    "        user_id = fake.uuid4()\n",
    "        username = fake.user_name()\n",
    "        # Generar edad normal discreta centrada en 33 años con desviación estándar de 15\n",
    "        age = int(np.random.normal(33, 15))\n",
    "        age = max(0, age)  # Asegurarse de que la edad sea no negativa\n",
    "        # Generar número de amigos normal discreto centrado en 255 con desviación estándar de 50\n",
    "        num_friends = int(np.random.normal(255, 50))\n",
    "        num_friends = abs(num_friends)  # Asegurarse de que el número de amigos sea positivo\n",
    "        \n",
    "        # Escribir una línea en el archivo\n",
    "        f.write(f'{user_id}\\t{username}\\t{age}\\t{num_friends}\\n')\n",
    "\n",
    "        # Cargar el archivo en un RDD\n",
    "data = sc.textFile('num_amigos.txt')\n",
    "\n",
    "# Eliminar la primera línea del encabezado y separar los campos\n",
    "header = data.first()\n",
    "rdd = data.filter(lambda line: line != header) \\\n",
    "          .map(lambda line: line.split('\\t')) \\\n",
    "          .map(lambda fields: (int(fields[2]), int(fields[3])))  # (age, num_friends)\n",
    "\n",
    "# Paso 1: Mapear para contar y sumar amigos por edad\n",
    "age_friends = rdd.mapValues(lambda x: (x, 1))  # (age, (num_friends, count))\n",
    "\n",
    "# Paso 2: Reducir por edad para sumar amigos y contar registros\n",
    "reduced_age_friends = age_friends.reduceByKey(lambda x, y: (x[0] + y[0], x[1] + y[1]))\n",
    "\n",
    "# Paso 3: Calcular el promedio de amigos por edad\n",
    "average_friends_per_age = reduced_age_friends.mapValues(lambda x: x[0] / x[1])\n",
    "\n",
    "# Mostrar los resultados (solo los primeros 10 para verificación)\n",
    "for result in average_friends_per_age.take(10):\n",
    "    print(result)\n"
   ]
  },
  {
   "cell_type": "code",
   "execution_count": 50,
   "id": "446cc66c",
   "metadata": {},
   "outputs": [],
   "source": [
    "sc.stop()"
   ]
  },
  {
   "cell_type": "code",
   "execution_count": null,
   "id": "73e2903f",
   "metadata": {},
   "outputs": [],
   "source": []
  }
 ],
 "metadata": {
  "kernelspec": {
   "display_name": "Python 3 (ipykernel)",
   "language": "python",
   "name": "python3"
  },
  "language_info": {
   "codemirror_mode": {
    "name": "ipython",
    "version": 3
   },
   "file_extension": ".py",
   "mimetype": "text/x-python",
   "name": "python",
   "nbconvert_exporter": "python",
   "pygments_lexer": "ipython3",
   "version": "3.11.5"
  }
 },
 "nbformat": 4,
 "nbformat_minor": 5
}
