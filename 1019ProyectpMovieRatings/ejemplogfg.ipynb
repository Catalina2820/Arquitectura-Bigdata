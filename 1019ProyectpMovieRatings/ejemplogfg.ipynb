{
 "cells": [
  {
   "cell_type": "code",
   "execution_count": 2,
   "metadata": {},
   "outputs": [
    {
     "data": {
      "text/plain": [
       "InsertOneResult(ObjectId('671cdd47326bf4cff27ef619'), acknowledged=True)"
      ]
     },
     "execution_count": 2,
     "metadata": {},
     "output_type": "execute_result"
    }
   ],
   "source": [
    "# importing Mongoclient from pymongo\n",
    "from pymongo import MongoClient \n",
    "\n",
    "# Making Connection\n",
    "client = MongoClient(\"mongodb://localhost:27017/\") \n",
    "\n",
    "# Create database  --> Crea la db\n",
    "db = myclient[\"Movielens\"]\n",
    "\n",
    "# Created or Switched to collection  --> crea la tabal/carpeta retings\n",
    "collection = db[\"ratings\"]"
   ]
  },
  {
   "cell_type": "code",
   "execution_count": null,
   "metadata": {},
   "outputs": [],
   "source": [
    "# creo un registro\n",
    "record = { \"user_id\": 1,\n",
    "\t\t\"movie_id\": 1193,\n",
    "\t\t\"rating\": 5}\n",
    "\n",
    "# Inserto el registro en la db\n",
    "collection.insert_one(record)"
   ]
  },
  {
   "cell_type": "code",
   "execution_count": 3,
   "metadata": {},
   "outputs": [
    {
     "data": {
      "text/plain": [
       "DeleteResult({'n': 1, 'ok': 1.0}, acknowledged=True)"
      ]
     },
     "execution_count": 3,
     "metadata": {},
     "output_type": "execute_result"
    }
   ],
   "source": [
    "#eliminar registro por id\n",
    "collection.delete_one({\"user_id\": 1})"
   ]
  },
  {
   "cell_type": "code",
   "execution_count": 7,
   "metadata": {},
   "outputs": [
    {
     "data": {
      "text/plain": [
       "DeleteResult({'n': 1, 'ok': 1.0}, acknowledged=True)"
      ]
     },
     "execution_count": 7,
     "metadata": {},
     "output_type": "execute_result"
    }
   ],
   "source": [
    "#eliminar registro por object id\n",
    "from bson.objectid import ObjectId\n",
    "collection.delete_one({\"_id\": ObjectId('671cdff7326bf4cff27ef61a')})"
   ]
  },
  {
   "cell_type": "code",
   "execution_count": 8,
   "metadata": {},
   "outputs": [
    {
     "data": {
      "text/plain": [
       "'c:\\\\Users\\\\ADMIN\\\\Pry_ArquitecturaBigData\\\\Clases\\\\1019ProyectpMovieRatings'"
      ]
     },
     "execution_count": 8,
     "metadata": {},
     "output_type": "execute_result"
    }
   ],
   "source": [
    "import os\n",
    "os.getcwd()"
   ]
  },
  {
   "cell_type": "code",
   "execution_count": 9,
   "metadata": {},
   "outputs": [],
   "source": [
    "#Para insertar el .dat uno a uno en la db\n",
    "\n",
    "with open('./DataLake/Raw/Fuente1_ml-1m/ratings.dat') as file:\n",
    "    for line in file.readlines():\n",
    "        item = line.split(\"::\")\n",
    "        record = { \n",
    "                  \"user_id\": item[0],\n",
    "\t\t          \"movie_id\": item[1],\n",
    "\t\t          \"rating\": int(item[2])\n",
    "            }\n",
    "        collection.insert_one(record)"
   ]
  },
  {
   "cell_type": "code",
   "execution_count": 10,
   "metadata": {},
   "outputs": [],
   "source": [
    "# insertando por baches ratings\n",
    "\n",
    "with open('./DataLake/Raw/Fuente1_ml-1m/ratings.dat') as file:\n",
    "    collection = db[\"ratings\"]\n",
    "    bache = []\n",
    "    for line in file.readlines():\n",
    "        item = line.split(\"::\")\n",
    "        record = { \n",
    "                  \"user_id\": item[0],\n",
    "\t\t          \"movie_id\": item[1],\n",
    "\t\t          \"rating\": int(item[2])\n",
    "            }\n",
    "        \n",
    "        bache.append(record)\n",
    "        if len(bache) == 1000:\n",
    "            collection.insert_many(bache)\n",
    "            bache = []\n",
    "    if len(bache) < 1000:\n",
    "    collection.insert_many(bache)       \n",
    "        "
   ]
  },
  {
   "cell_type": "code",
   "execution_count": 22,
   "metadata": {},
   "outputs": [],
   "source": [
    "# subiendo users\n",
    "with open('./DataLake/Raw/Fuente1_ml-1m/users.dat') as file:\n",
    "    collection = db['users']\n",
    "\n",
    "    user_age_mapper ={\n",
    "        \"1\":  \"Under 18\",\n",
    "        '18':  \"18-24\",\n",
    "        '25':  \"25-34\",\n",
    "        '35':  \"35-44\",\n",
    "        '45':  \"45-49\",\n",
    "        '50':  \"50-55\",\n",
    "        '56':  \"56+\"\n",
    "    }\n",
    "    \n",
    "    user_occupation_mapper = {\n",
    "        '0': \"other or not specified\",\n",
    "        '1': \"academic/educator\",\n",
    "        '2': \"artist\",\n",
    "        '3': \"clerical/admin\",\n",
    "        '4': \"college/grad student\",\n",
    "        '5': \"customer service\",\n",
    "        '6': \"doctor/health care\",\n",
    "        '7': \"executive/managerial\",\n",
    "        '8': \"farmer\",\n",
    "        '9': \"homemaker\",\n",
    "        '10': \"K-12 student\",\n",
    "        '11': \"lawyer\",\n",
    "        '12': \"programmer\",\n",
    "        '13': \"retired\",\n",
    "        '14': \"sales/marketing\",\n",
    "        '15': \"scientist\",\n",
    "        '16': \"self-employed\",\n",
    "        '17': \"technician/engineer\",\n",
    "        '18': \"tradesman/craftsman\",\n",
    "        '19': \"unemployed\",\n",
    "        '20': \"writer\"\n",
    "    }\n",
    "\n",
    "    \n",
    "    bache = []\n",
    "    for line in file.readlines():\n",
    "        item = line.split(\"::\")\n",
    "        record = { \n",
    "                  \"UserID\": item[0],\n",
    "\t\t          \"Gender\": item[1],\n",
    "\t\t          \"Age\": user_age_mapper[item[2]],\n",
    "                  \"Occupation\" : user_occupation_mapper[item[3]]\n",
    "            }\n",
    "        \n",
    "        bache.append(record)\n",
    "        \n",
    "        if len(bache) == 1000:\n",
    "            collection.insert_many(bache)\n",
    "            bache = []\n",
    "            \n",
    "    if len(bache) < 1000:\n",
    "        collection.insert_many(bache) "
   ]
  },
  {
   "cell_type": "code",
   "execution_count": 20,
   "metadata": {},
   "outputs": [],
   "source": [
    "#subiendo movies\n",
    "with open('./DataLake/Raw/Fuente1_ml-1m/movies.dat') as file:\n",
    "    bache = []\n",
    "    collection = db['movies2']\n",
    "    for line in file.readlines():\n",
    "        item = line.split(\"::\")\n",
    "        record = { \n",
    "                  \"MovieID\": item[0],\n",
    "\t\t          \"Title\": item[1],\n",
    "\t\t          \"Genres\": item[2],\n",
    "            }\n",
    "        \n",
    "        bache.append(record)\n",
    "        if len(bache) == 1000:\n",
    "            collection.insert_many(bache)\n",
    "            bache = []\n",
    "    if len(bache) < 1000:\n",
    "        collection.insert_many(bache)"
   ]
  }
 ],
 "metadata": {
  "kernelspec": {
   "display_name": "Python 3",
   "language": "python",
   "name": "python3"
  },
  "language_info": {
   "codemirror_mode": {
    "name": "ipython",
    "version": 3
   },
   "file_extension": ".py",
   "mimetype": "text/x-python",
   "name": "python",
   "nbconvert_exporter": "python",
   "pygments_lexer": "ipython3",
   "version": "3.9.13"
  }
 },
 "nbformat": 4,
 "nbformat_minor": 2
}
